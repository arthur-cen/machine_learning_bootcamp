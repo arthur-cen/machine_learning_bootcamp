{
 "cells": [
  {
   "cell_type": "code",
   "execution_count": 2,
   "metadata": {
    "collapsed": false
   },
   "outputs": [
    {
     "name": "stdout",
     "output_type": "stream",
     "text": [
      "Populating the interactive namespace from numpy and matplotlib\n"
     ]
    }
   ],
   "source": [
    "%pylab inline\n",
    "import matplotlib.pyplot as plt\n",
    "import numpy as np\n",
    "import scipy.io\n",
    "import math"
   ]
  },
  {
   "cell_type": "markdown",
   "metadata": {},
   "source": [
    "## Email Spam classification using logistic regression model"
   ]
  },
  {
   "cell_type": "markdown",
   "metadata": {},
   "source": [
    "### Load Data"
   ]
  },
  {
   "cell_type": "code",
   "execution_count": 3,
   "metadata": {
    "collapsed": false
   },
   "outputs": [],
   "source": [
    "file = scipy.io.loadmat('data/spam.mat')"
   ]
  },
  {
   "cell_type": "code",
   "execution_count": 4,
   "metadata": {
    "collapsed": false
   },
   "outputs": [],
   "source": [
    "X_test = file['Xtest']\n",
    "X_train = file['Xtrain']\n",
    "y_train = file['ytrain']"
   ]
  },
  {
   "cell_type": "markdown",
   "metadata": {},
   "source": [
    "### Try using three Input Data Transformation Methods\n",
    "1. Standard Transformation\n",
    "2. Log Transformation\n",
    "3. Binary Transformation"
   ]
  },
  {
   "cell_type": "code",
   "execution_count": 25,
   "metadata": {
    "collapsed": false
   },
   "outputs": [],
   "source": [
    "def stand_trans(X):\n",
    "    mean = np.average(X)\n",
    "    std = np.std(X)\n",
    "    return (X - mean)/std\n",
    "def log_trans(X):\n",
    "    return np.log(X + 0.1)\n",
    "def bin_trans(X):\n",
    "    return (X > 0).astype(int)\n",
    "#Transformations of X_train.\n",
    "X_train_stand = stand_trans(X_train)\n",
    "X_train_log = log_trans(X_train)\n",
    "X_train_bin = bin_trans(X_train)"
   ]
  },
  {
   "cell_type": "markdown",
   "metadata": {},
   "source": [
    "### Using Gradient Descent"
   ]
  },
  {
   "cell_type": "code",
   "execution_count": 26,
   "metadata": {
    "collapsed": true
   },
   "outputs": [],
   "source": [
    "def train_gd(X_train, y_train, alpha=0.1, reg=0, num_iter=10000, loss_calc = False):\n",
    "    ''' Build a model from X_train -> y_train using batch gradient descent '''\n",
    "    # X --  N * D\n",
    "    # y --- N * k\n",
    "    # W arbiturally choose one D * k\n",
    "    loss = []\n",
    "    D = X_train.shape[1]\n",
    "    W = np.zeros([D, 1])\n",
    "    for i in range(0, num_iter):\n",
    "        mu = sigmoid(X_train, W)\n",
    "        gradient = 2*reg*W - X_train.T.dot(y_train - mu)\n",
    "        W -= alpha * gradient\n",
    "        if (plot):\n",
    "            l = calc_loss(X_train, y_train, W, reg)\n",
    "            loss.append(l[0][0])\n",
    "    return (W, loss)"
   ]
  },
  {
   "cell_type": "code",
   "execution_count": 27,
   "metadata": {
    "collapsed": true
   },
   "outputs": [],
   "source": [
    "def predict(model, X_trans):\n",
    "    ''' From model and data points, output prediction vectors '''\n",
    "    pred_labels = X_trans.dot(model)\n",
    "    return pred_labels"
   ]
  },
  {
   "cell_type": "code",
   "execution_count": 28,
   "metadata": {
    "collapsed": true
   },
   "outputs": [],
   "source": [
    "def sigmoid(X, W):\n",
    "    return 1 / (1 + math.e ** (-X.dot(W)))"
   ]
  },
  {
   "cell_type": "code",
   "execution_count": 29,
   "metadata": {
    "collapsed": false
   },
   "outputs": [],
   "source": [
    "def calc_loss_2(X, y, W, reg):\n",
    "    pen = 2 * reg * W.T.dot(W)\n",
    "    print(len(X))\n",
    "    for i in range(0, len(X)):\n",
    "        mu = sigmoid(X[i], W)\n",
    "        if (mu != 0 and mu != 1):\n",
    "            pen -= y[i] * np.log(mu) + (1 - y[i]) * np.log(1 - mu)\n",
    "    return pen"
   ]
  },
  {
   "cell_type": "code",
   "execution_count": 30,
   "metadata": {
    "collapsed": true
   },
   "outputs": [],
   "source": [
    "def calc_loss(X, y, W, reg):\n",
    "    mu = sigmoid(X, W)\n",
    "    return 2 * reg * W - y.T.dot(np.log(mu)) - (1 - y).T.dot(np.log(1 - mu))"
   ]
  },
  {
   "cell_type": "code",
   "execution_count": 22,
   "metadata": {
    "collapsed": false
   },
   "outputs": [
    {
     "name": "stdout",
     "output_type": "stream",
     "text": [
      "1990.10053583\n"
     ]
    },
    {
     "data": {
      "text/plain": [
       "[<matplotlib.lines.Line2D at 0x10a5f7f28>]"
      ]
     },
     "execution_count": 22,
     "metadata": {},
     "output_type": "execute_result"
    },
    {
     "data": {
      "image/png": "[encoded data removed]",
      "text/plain": [
       "<matplotlib.figure.Figure at 0x10a431e10>"
      ]
     },
     "metadata": {},
     "output_type": "display_data"
    }
   ],
   "source": [
    "alpha = 1e-6\n",
    "reg = 0.05\n",
    "num_iter_stand = 10000\n",
    "model_stand, loss_stand = train_gd(X_train_stand, y_train, alpha, reg, num_iter_stand, loss_calc = True)\n",
    "labels_stand = predict(model_stand, X_test)\n",
    "labels_stand\n",
    "plt.plot([i for i in range(num_iter_stand)], loss_stand)"
   ]
  },
  {
   "cell_type": "code",
   "execution_count": 33,
   "metadata": {
    "collapsed": false
   },
   "outputs": [
    {
     "data": {
      "image/png": "[encoded data removed]",
      "text/plain": [
       "<matplotlib.figure.Figure at 0x10aca74e0>"
      ]
     },
     "metadata": {},
     "output_type": "display_data"
    },
    {
     "data": {
      "text/plain": [
       "530.38558552666734"
      ]
     },
     "execution_count": 33,
     "metadata": {},
     "output_type": "execute_result"
    }
   ],
   "source": [
    "alpha = 1e-5\n",
    "reg = 0.05\n",
    "num_iter_log = 10000\n",
    "model_log, loss_log = train_gd(X_train_log, y_train, alpha, reg, num_iter_log)\n",
    "X_test_stand = stand_trans(X_test)\n",
    "labels_log = predict(model_log, X_test_stand)\n",
    "labels_log\n",
    "plt.plot([i for i in range(num_iter_log)], loss_log)\n",
    "plt.show()\n",
    "min(loss_log)"
   ]
  },
  {
   "cell_type": "code",
   "execution_count": 24,
   "metadata": {
    "collapsed": false
   },
   "outputs": [],
   "source": [
    "labels = (labels_log > 0.5).astype(int).T[0]\n",
    "ID = np.array([i + 1 for i in range(labels_log.shape[0])])\n",
    "result = np.dstack((ID, labels))[0].astype(int)\n",
    "np.savetxt('test_label_log.csv', result, header = 'ID,Category', fmt = '%d', delimiter = \",\", comments = \"\")"
   ]
  },
  {
   "cell_type": "code",
   "execution_count": 36,
   "metadata": {
    "collapsed": false
   },
   "outputs": [
    {
     "data": {
      "text/plain": [
       "603.17534574620856"
      ]
     },
     "execution_count": 36,
     "metadata": {},
     "output_type": "execute_result"
    },
    {
     "data": {
      "image/png": "[encoded data removed]",
      "text/plain": [
       "<matplotlib.figure.Figure at 0x10a8c8780>"
      ]
     },
     "metadata": {},
     "output_type": "display_data"
    }
   ],
   "source": [
    "alpha = 1e-5\n",
    "reg = 0.125\n",
    "num_iter_bin = 50000\n",
    "model_bin, loss_bin = train_gd(X_train_bin, y_train, alpha, reg, num_iter_bin)\n",
    "X_test_bin = bin_trans(X_test)\n",
    "labels_bin = predict(model_bin, X_test_bin)\n",
    "labels_bin\n",
    "plt.plot([i for i in range(num_iter_bin)], loss_bin)\n",
    "min(loss_bin)"
   ]
  },
  {
   "cell_type": "code",
   "execution_count": 37,
   "metadata": {
    "collapsed": false
   },
   "outputs": [],
   "source": [
    "labels = (labels_bin > 0.5).astype(int).T[0]\n",
    "ID = np.array([i + 1 for i in range(labels_log.shape[0])])\n",
    "result = np.dstack((ID, labels))[0].astype(int)\n",
    "np.savetxt('test_label_bin.csv', result, header = 'ID,Category', fmt = '%d', delimiter = \",\", comments = \"\")"
   ]
  },
  {
   "cell_type": "markdown",
   "metadata": {},
   "source": [
    "### Using Stochastic Gradient Descent with fixed learning rate"
   ]
  },
  {
   "cell_type": "code",
   "execution_count": 47,
   "metadata": {
    "collapsed": true
   },
   "outputs": [],
   "source": [
    "def train_sgd(X_train, y_train, alpha=0.1, reg=0, num_iter=10000):\n",
    "    ''' Build a model from X_train -> y_train using stochastic gradient descent '''\n",
    "    loss = []\n",
    "#     best = None\n",
    "    D = X_train.shape[1]\n",
    "    W = np.zeros([D, 1])\n",
    "    for i in range(0, num_iter):\n",
    "        u = np.random.randint(0, D)\n",
    "        gradient = 2 * reg * W - np.outer(X_train[u], (y_train[u] - sigmoid(X_train[u], W)))\n",
    "        W -= alpha * gradient\n",
    "        l = calc_loss(X_train, y_train, W, reg)\n",
    "        loss.append(l[0][0])\n",
    "    return (W, loss)"
   ]
  },
  {
   "cell_type": "code",
   "execution_count": 49,
   "metadata": {
    "collapsed": false
   },
   "outputs": [
    {
     "name": "stdout",
     "output_type": "stream",
     "text": [
      "2195.45300823\n"
     ]
    },
    {
     "data": {
      "text/plain": [
       "[<matplotlib.lines.Line2D at 0x10df4c550>]"
      ]
     },
     "execution_count": 49,
     "metadata": {},
     "output_type": "execute_result"
    },
    {
     "data": {
      "image/png": "[encoded data removed]",
      "text/plain": [
       "<matplotlib.figure.Figure at 0x10ae5c518>"
      ]
     },
     "metadata": {},
     "output_type": "display_data"
    }
   ],
   "source": [
    "alpha = 1e-4\n",
    "reg = 0.07\n",
    "num_iter_stand = 600000\n",
    "model_stand, loss_stand = train_sgd(X_train_stand, y_train, alpha, reg, num_iter_stand)\n",
    "labels_stand = predict(model_stand, X_test)\n",
    "print(min(loss_stand))\n",
    "plt.plot([i for i in range(num_iter_stand)], loss_stand)"
   ]
  },
  {
   "cell_type": "code",
   "execution_count": 51,
   "metadata": {
    "collapsed": false
   },
   "outputs": [
    {
     "data": {
      "image/png": "[encoded data removed]",
      "text/plain": [
       "<matplotlib.figure.Figure at 0x10b601ac8>"
      ]
     },
     "metadata": {},
     "output_type": "display_data"
    },
    {
     "data": {
      "text/plain": [
       "933.94868973549637"
      ]
     },
     "execution_count": 51,
     "metadata": {},
     "output_type": "execute_result"
    }
   ],
   "source": [
    "alpha = 1e-5\n",
    "reg = 0.06\n",
    "num_iter_log = 600000\n",
    "model_log, loss_log = train_sgd(X_train_log, y_train, alpha, reg, num_iter_log)\n",
    "X_test_stand = stand_trans(X_test)\n",
    "labels_log = predict(model_log, X_test_stand)\n",
    "labels_log\n",
    "plt.plot([i for i in range(num_iter_log)], loss_log)\n",
    "plt.show()\n",
    "min(loss_log)"
   ]
  },
  {
   "cell_type": "code",
   "execution_count": 52,
   "metadata": {
    "collapsed": false
   },
   "outputs": [
    {
     "data": {
      "text/plain": [
       "603.17534574620856"
      ]
     },
     "execution_count": 52,
     "metadata": {},
     "output_type": "execute_result"
    },
    {
     "data": {
      "image/png": "[encoded data removed]",
      "text/plain": [
       "<matplotlib.figure.Figure at 0x110d2e5c0>"
      ]
     },
     "metadata": {},
     "output_type": "display_data"
    }
   ],
   "source": [
    "alpha = 1e-5\n",
    "reg = 0.125\n",
    "num_iter_bin = 50000\n",
    "model_bin, loss_bin = train_gd(X_train_bin, y_train, alpha, reg, num_iter_bin)\n",
    "X_test_bin = bin_trans(X_test)\n",
    "labels_bin = predict(model_bin, X_test_bin)\n",
    "labels_bin\n",
    "plt.plot([i for i in range(num_iter_bin)], loss_bin)\n",
    "min(loss_bin)"
   ]
  },
  {
   "cell_type": "markdown",
   "metadata": {},
   "source": [
    "It seems that with that strategy, the stochastic gradient descent converges faster."
   ]
  },
  {
   "cell_type": "markdown",
   "metadata": {},
   "source": [
    "### Using Stochastic Gradient Descent with decaying learning rate"
   ]
  },
  {
   "cell_type": "code",
   "execution_count": 53,
   "metadata": {
    "collapsed": true
   },
   "outputs": [],
   "source": [
    "def train_sgd_v2(X_train, y_train, alpha=0.1, reg=0, num_iter=10000):\n",
    "    ''' Build a model from X_train -> y_train using stochastic gradient descent '''\n",
    "    loss = []\n",
    "#     best = None\n",
    "    D = X_train.shape[1]\n",
    "    W = np.zeros([D, 1])\n",
    "    for i in range(0, num_iter):\n",
    "        alpha /= i # Learning rate decays here\n",
    "        u = np.random.randint(0, D)\n",
    "        gradient = 2 * reg * W - np.outer(X_train[u], (y_train[u] - sigmoid(X_train[u], W)))\n",
    "        W -= alpha * gradient\n",
    "        l = calc_loss(X_train, y_train, W, reg)\n",
    "        loss.append(l[0][0])\n",
    "    return (W, loss)"
   ]
  },
  {
   "cell_type": "code",
   "execution_count": 57,
   "metadata": {
    "collapsed": false
   },
   "outputs": [
    {
     "name": "stdout",
     "output_type": "stream",
     "text": [
      "2238.89352\n"
     ]
    },
    {
     "data": {
      "text/plain": [
       "[<matplotlib.lines.Line2D at 0x110d08080>]"
      ]
     },
     "execution_count": 57,
     "metadata": {},
     "output_type": "execute_result"
    },
    {
     "data": {
      "image/png": "[encoded data removed]",
      "text/plain": [
       "<matplotlib.figure.Figure at 0x10c47ac18>"
      ]
     },
     "metadata": {},
     "output_type": "display_data"
    }
   ],
   "source": [
    "alpha = 1e-4\n",
    "reg = 0.125\n",
    "num_iter_stand = 600000\n",
    "model_stand, loss_stand = train_sgd(X_train_stand, y_train, alpha, reg, num_iter_stand)\n",
    "labels_stand = predict(model_stand, X_test)\n",
    "print(min(loss_stand))\n",
    "plt.plot([i for i in range(num_iter_stand)], loss_stand)"
   ]
  },
  {
   "cell_type": "code",
   "execution_count": 58,
   "metadata": {
    "collapsed": false
   },
   "outputs": [
    {
     "data": {
      "image/png": "[encoded data removed]",
      "text/plain": [
       "<matplotlib.figure.Figure at 0x110d15978>"
      ]
     },
     "metadata": {},
     "output_type": "display_data"
    },
    {
     "data": {
      "text/plain": [
       "1027.9059247396322"
      ]
     },
     "execution_count": 58,
     "metadata": {},
     "output_type": "execute_result"
    }
   ],
   "source": [
    "alpha = 1e-5\n",
    "reg = 0.125\n",
    "num_iter_log = 600000\n",
    "model_log, loss_log = train_sgd(X_train_log, y_train, alpha, reg, num_iter_log)\n",
    "X_test_stand = stand_trans(X_test)\n",
    "labels_log = predict(model_log, X_test_stand)\n",
    "labels_log\n",
    "plt.plot([i for i in range(num_iter_log)], loss_log)\n",
    "plt.show()\n",
    "min(loss_log)"
   ]
  },
  {
   "cell_type": "code",
   "execution_count": 56,
   "metadata": {
    "collapsed": false
   },
   "outputs": [
    {
     "data": {
      "text/plain": [
       "603.17534574620856"
      ]
     },
     "execution_count": 56,
     "metadata": {},
     "output_type": "execute_result"
    },
    {
     "data": {
      "image/png": "[encoded data removed]",
      "text/plain": [
       "<matplotlib.figure.Figure at 0x10c45e128>"
      ]
     },
     "metadata": {},
     "output_type": "display_data"
    }
   ],
   "source": [
    "alpha = 1e-5\n",
    "reg = 0.125\n",
    "num_iter_bin = 50000\n",
    "model_bin, loss_bin = train_gd(X_train_bin, y_train, alpha, reg, num_iter_bin)\n",
    "X_test_bin = bin_trans(X_test)\n",
    "labels_bin = predict(model_bin, X_test_bin)\n",
    "labels_bin\n",
    "plt.plot([i for i in range(num_iter_bin)], loss_bin)\n",
    "min(loss_bin)"
   ]
  },
  {
   "cell_type": "markdown",
   "metadata": {},
   "source": [
    "## Result Report"
   ]
  },
  {
   "cell_type": "markdown",
   "metadata": {},
   "source": [
    "I used Gradient Descent to train the model, used lambda = 0.125, learning_rate = 1e-5 and iteration = 50000.\n",
    "I finally get a 0.93 accuracy on Kaggle."
   ]
  }
 ],
 "metadata": {
  "kernelspec": {
   "display_name": "Python 3",
   "language": "python",
   "name": "python3"
  },
  "language_info": {
   "codemirror_mode": {
    "name": "ipython",
    "version": 3.0
   },
   "file_extension": ".py",
   "mimetype": "text/x-python",
   "name": "python",
   "nbconvert_exporter": "python",
   "pygments_lexer": "ipython3",
   "version": "3.4.4"
  }
 },
 "nbformat": 4,
 "nbformat_minor": 0
}